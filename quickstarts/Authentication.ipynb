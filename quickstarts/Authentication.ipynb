{
  "cells": [
    {
      "cell_type": "markdown",
      "metadata": {
        "id": "Tce3stUlHN0L"
      },
      "source": [
        "##### Copyright 2024 Google LLC."
      ]
    },
    {
      "cell_type": "code",
      "execution_count": null,
      "metadata": {
        "cellView": "form",
        "id": "tuOe1ymfHZPu"
      },
      "outputs": [],
      "source": [
        "# @title Licensed under the Apache License, Version 2.0 (the \"License\");\n",
        "# you may not use this file except in compliance with the License.\n",
        "# You may obtain a copy of the License at\n",
        "#\n",
        "# https://www.apache.org/licenses/LICENSE-2.0\n",
        "#\n",
        "# Unless required by applicable law or agreed to in writing, software\n",
        "# distributed under the License is distributed on an \"AS IS\" BASIS,\n",
        "# WITHOUT WARRANTIES OR CONDITIONS OF ANY KIND, either express or implied.\n",
        "# See the License for the specific language governing permissions and\n",
        "# limitations under the License."
      ]
    },
    {
      "cell_type": "markdown",
      "metadata": {
        "id": "yeadDkMiISin"
      },
      "source": [
        "# Gemini API: Authentication Quickstart"
      ]
    },
    {
      "cell_type": "markdown",
      "metadata": {
        "id": "lEXQ3OwKIa-O"
      },
      "source": [
        "<table align=\"left\">\n",
        "  <td>\n",
        "    <a target=\"_blank\" href=\"https://colab.research.google.com/github/google-gemini/cookbook/blob/main/quickstarts/Authentication.ipynb\"><img src=\"https://github.com/google-gemini/cookbook/blob/main/images/colab_logo_32px.png?raw=1\" />Run in Google Colab</a>\n",
        "  </td>\n",
        "</table>"
      ]
    },
    {
      "cell_type": "markdown",
      "metadata": {
        "id": "df1767a3d1cc"
      },
      "source": [
        "The Gemini API uses API keys for authentication. This notebook walks you through creating an API key, and using it with the Python SDK or a command line tool like `curl`."
      ]
    },
    {
      "cell_type": "markdown",
      "metadata": {
        "id": "mhFKmRmxi5B-"
      },
      "source": [
        "## Create an API key\n",
        "\n",
        "You can [create](https://aistudio.google.com/app/apikey) your API key using Google AI Studio with a single click.  \n",
        "\n",
        "Remember to treat your API key like a password. Do not accidentally save it in a notebook or source file you later commit to GitHub. This notebook shows you two ways you can securely store your API key.\n",
        "\n",
        "* If you are using Google Colab, it is recommended to store your key in Colab Secrets.\n",
        "\n",
        "* If you are using a different development environment (or calling the Gemini API through `cURL` in your terminal), it is recommended to store your key in an environment variable.\n",
        "\n",
        "Let's start with Colab Secrets."
      ]
    },
    {
      "cell_type": "markdown",
      "metadata": {
        "id": "dEoigYI9Jw_K"
      },
      "source": [
        "## Add your key to Colab Secrets\n",
        "\n",
        "Add your API key to the Colab Secrets manager to securely store it.\n",
        "\n",
        "1. Open your Google Colab notebook and click on the 🔑 **Secrets** tab in the left panel.\n",
        "   \n",
        "   <img src=\"https://storage.googleapis.com/generativeai-downloads/images/secrets.jpg\" alt=\"The Secrets tab is found on the left panel.\" width=50%>\n",
        "\n",
        "2. Create a new secret with the name `GOOGLE_API_KEY`.\n",
        "3. Copy/paste your API key into the `Value` input box of `GOOGLE_API_KEY`.\n",
        "4. Toggle the button on the left to allow notebook access to the secret.\n"
      ]
    },
    {
      "cell_type": "markdown",
      "metadata": {
        "id": "jRY1eioF4gUB"
      },
      "source": [
        "## Install the Python SDK"
      ]
    },
    {
      "cell_type": "code",
      "execution_count": 1,
      "metadata": {
        "id": "xuiLSV7amy3P"
      },
      "outputs": [],
      "source": [
        "!pip install -U -q \"google-generativeai>=0.7.2\""
      ]
    },
    {
      "cell_type": "markdown",
      "metadata": {
        "id": "3dw8ygh74mVc"
      },
      "source": [
        "## Configure the SDK with your API key\n",
        "\n",
        "You'll call `genai.configure` with your API key, but instead of pasting your key into the notebook, you'll read it from Colab Secrets."
      ]
    },
    {
      "cell_type": "code",
      "execution_count": 2,
      "metadata": {
        "id": "DTl-qZp34sht"
      },
      "outputs": [],
      "source": [
        "import google.generativeai as genai\n",
        "from google.colab import userdata\n",
        "\n",
        "GOOGLE_API_KEY=userdata.get('GOOGLE_API_KEY')\n",
        "genai.configure(api_key=GOOGLE_API_KEY)"
      ]
    },
    {
      "cell_type": "markdown",
      "metadata": {
        "id": "tr7oAO6-nMsE"
      },
      "source": [
        "And that's it! Now you're ready to call the Gemini API."
      ]
    },
    {
      "cell_type": "code",
      "execution_count": 3,
      "metadata": {
        "id": "n6sXnWrJoKoo",
        "outputId": "31be2345-f023-4705-c4a0-4611e5481a4b",
        "colab": {
          "base_uri": "https://localhost:8080/",
          "height": 1000
        }
      },
      "outputs": [
        {
          "output_type": "stream",
          "name": "stdout",
          "text": [
            "Python offers several ways to sort a list. Here are a few examples, demonstrating different approaches and use cases:\n",
            "\n",
            "**1. Using the `list.sort()` method (in-place sorting):**\n",
            "\n",
            "This method modifies the original list directly.  It's efficient for large lists because it doesn't create a new list.\n",
            "\n",
            "```python\n",
            "my_list = [3, 1, 4, 1, 5, 9, 2, 6]\n",
            "my_list.sort()\n",
            "print(my_list)  # Output: [1, 1, 2, 3, 4, 5, 6, 9]\n",
            "```\n",
            "\n",
            "**2. Using the `sorted()` function (creates a new sorted list):**\n",
            "\n",
            "This function returns a *new* sorted list, leaving the original list unchanged.\n",
            "\n",
            "```python\n",
            "my_list = [3, 1, 4, 1, 5, 9, 2, 6]\n",
            "sorted_list = sorted(my_list)\n",
            "print(my_list)      # Output: [3, 1, 4, 1, 5, 9, 2, 6] (original list unchanged)\n",
            "print(sorted_list)  # Output: [1, 1, 2, 3, 4, 5, 6, 9] (new sorted list)\n",
            "```\n",
            "\n",
            "**3. Sorting in reverse order:**\n",
            "\n",
            "Both `list.sort()` and `sorted()` accept a `reverse` argument.  Set it to `True` to sort in descending order.\n",
            "\n",
            "```python\n",
            "my_list = [3, 1, 4, 1, 5, 9, 2, 6]\n",
            "my_list.sort(reverse=True)\n",
            "print(my_list)  # Output: [9, 6, 5, 4, 3, 2, 1, 1]\n",
            "\n",
            "sorted_list = sorted(my_list, reverse=True)\n",
            "print(sorted_list) # Output: [9, 6, 5, 4, 3, 2, 1, 1]\n",
            "```\n",
            "\n",
            "**4. Sorting with a custom key function:**\n",
            "\n",
            "For more complex sorting, you can provide a `key` function. This function is applied to each element before comparison.  For example, to sort a list of strings by their length:\n",
            "\n",
            "```python\n",
            "words = [\"apple\", \"banana\", \"kiwi\", \"orange\"]\n",
            "words.sort(key=len)\n",
            "print(words)  # Output: ['kiwi', 'apple', 'orange', 'banana']\n",
            "\n",
            "words.sort(key=len, reverse=True)\n",
            "print(words) # Output: ['banana', 'orange', 'apple', 'kiwi']\n",
            "\n",
            "```\n",
            "\n",
            "**5. Sorting a list of lists or tuples:**\n",
            "\n",
            "You can specify the index within the inner lists or tuples to sort by:\n",
            "\n",
            "```python\n",
            "data = [[1, 'z'], [3, 'a'], [2, 'b']]\n",
            "data.sort(key=lambda x: x[1]) # Sort by the second element of each inner list\n",
            "print(data) # Output: [[3, 'a'], [2, 'b'], [1, 'z']]\n",
            "\n",
            "data.sort(key=lambda x: x[0]) # Sort by the first element of each inner list\n",
            "print(data) # Output: [[1, 'z'], [2, 'b'], [3, 'a']]\n",
            "```\n",
            "\n",
            "Remember to choose the method that best suits your needs.  `list.sort()` is generally more efficient if you don't need to preserve the original list.  `sorted()` is preferable if you want to keep the original list unchanged.  The `key` argument provides powerful customization options for complex sorting scenarios.\n",
            "\n"
          ]
        }
      ],
      "source": [
        "model = genai.GenerativeModel('models/gemini-1.5-flash')\n",
        "response = model.generate_content(\"Please give me python code to sort a list.\")\n",
        "print(response.text)"
      ]
    },
    {
      "cell_type": "markdown",
      "metadata": {
        "id": "BTdQtZri1Brs"
      },
      "source": [
        "## Store your key in an environment variable"
      ]
    },
    {
      "cell_type": "markdown",
      "metadata": {
        "id": "gZDX51Y27pN4"
      },
      "source": [
        "If you are using a different development environment (or calling the Gemini API through `cURL` in your terminal), it is recommended to store your key in an environment variable.\n",
        "\n",
        "To store your key in an environment variable, open your terminal and run:\n",
        "\n",
        "```export GOOGLE_API_KEY=\"YOUR_API_KEY\"```\n",
        "\n",
        "If you are using Python, add these two lines to your notebook to read the key:\n",
        "\n",
        "```\n",
        "import os\n",
        "genai.configure(api_key=os.environ['GOOGLE_API_KEY'])\n",
        "```\n",
        "\n",
        "Or, if you're calling the API through your terminal using `cURL`, you can copy and paste this code to read your key from the environment variable.\n",
        "\n",
        "```\n",
        "curl \"https://generativelanguage.googleapis.com/v1beta/models/gemini-pro:generateContent?key=$GOOGLE_API_KEY\" \\\n",
        "    -H 'Content-Type: application/json' \\\n",
        "    -X POST \\\n",
        "    -d '{\n",
        "      \"contents\": [{\n",
        "        \"parts\":[{\n",
        "          \"text\": \"Please give me Python code to sort a list.\"}]}]}'\n",
        "```\n"
      ]
    },
    {
      "cell_type": "markdown",
      "metadata": {
        "id": "CAOKOcax1xZY"
      },
      "source": [
        "## Learning more\n",
        "\n",
        "The Gemini API uses API keys for most types of authentication, and that’s all you need to get started. You can use OAuth for more advanced authentication when tuning models. You can learn more about that in the [OAuth quickstart](https://github.com/google-gemini/cookbook/blob/main/quickstarts/Authentication_with_OAuth.ipynb)."
      ]
    }
  ],
  "metadata": {
    "colab": {
      "name": "Authentication.ipynb",
      "toc_visible": true,
      "provenance": []
    },
    "google": {
      "image_path": "/site-assets/images/share.png",
      "keywords": [
        "examples",
        "googleai",
        "samplecode",
        "python",
        "embed",
        "function"
      ]
    },
    "kernelspec": {
      "display_name": "Python 3",
      "name": "python3"
    }
  },
  "nbformat": 4,
  "nbformat_minor": 0
}